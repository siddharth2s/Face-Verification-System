{
  "nbformat": 4,
  "nbformat_minor": 0,
  "metadata": {
    "kernelspec": {
      "display_name": "Python 3",
      "language": "python",
      "name": "python3"
    },
    "language_info": {
      "codemirror_mode": {
        "name": "ipython",
        "version": 3
      },
      "file_extension": ".py",
      "mimetype": "text/x-python",
      "name": "python",
      "nbconvert_exporter": "python",
      "pygments_lexer": "ipython3",
      "version": "3.8.8"
    },
    "colab": {
      "name": "Face Verification System.ipynb",
      "provenance": [],
      "collapsed_sections": []
    },
    "accelerator": "GPU"
  },
  "cells": [
    {
      "cell_type": "code",
      "metadata": {
        "id": "kZnoNHMzUhbe"
      },
      "source": [
        "from keras.layers import Input, Lambda, Dense, Flatten\n",
        "from keras.models import Model\n",
        "from keras.applications.vgg16 import VGG16\n",
        "from keras.applications.vgg16 import preprocess_input\n",
        "from keras.preprocessing import image\n",
        "from keras.preprocessing.image import ImageDataGenerator\n",
        "from keras.models import Sequential\n",
        "import numpy as np\n",
        "from glob import glob\n",
        "import matplotlib.pyplot as plt"
      ],
      "execution_count": 1,
      "outputs": []
    },
    {
      "cell_type": "code",
      "metadata": {
        "colab": {
          "base_uri": "https://localhost:8080/"
        },
        "id": "p56lEVU0VKqZ",
        "outputId": "29ff8a19-0d00-49b6-a735-536364fefbb5"
      },
      "source": [
        "from google.colab import drive\n",
        "drive.mount('/content/drive')"
      ],
      "execution_count": 2,
      "outputs": [
        {
          "output_type": "stream",
          "text": [
            "Drive already mounted at /content/drive; to attempt to forcibly remount, call drive.mount(\"/content/drive\", force_remount=True).\n"
          ],
          "name": "stdout"
        }
      ]
    },
    {
      "cell_type": "code",
      "metadata": {
        "id": "oVp8oumzUhbl"
      },
      "source": [
        "IMAGE_SIZE = [224, 224]"
      ],
      "execution_count": 3,
      "outputs": []
    },
    {
      "cell_type": "code",
      "metadata": {
        "id": "juV2L3RPUhbl"
      },
      "source": [
        "train_path = 'drive/MyDrive/Dataset/Train'\n",
        "valid_path = 'drive/MyDrive/Dataset/Test'"
      ],
      "execution_count": 4,
      "outputs": []
    },
    {
      "cell_type": "code",
      "metadata": {
        "id": "oj9I1dWSUhbm"
      },
      "source": [
        "vgg = VGG16(input_shape=IMAGE_SIZE + [3], weights='imagenet', include_top=False)"
      ],
      "execution_count": 5,
      "outputs": []
    },
    {
      "cell_type": "code",
      "metadata": {
        "id": "8Mnii7q2Uhbm"
      },
      "source": [
        "for layer in vgg.layers:\n",
        "  layer.trainable = False"
      ],
      "execution_count": 6,
      "outputs": []
    },
    {
      "cell_type": "code",
      "metadata": {
        "id": "j-w3GMdoUhbm"
      },
      "source": [
        "folders = glob('drive/MyDrive/Dataset/Train/*')"
      ],
      "execution_count": 7,
      "outputs": []
    },
    {
      "cell_type": "code",
      "metadata": {
        "id": "kWq-jGCxUhbn"
      },
      "source": [
        "x = Flatten()(vgg.output)\n",
        "# x = Dense(1000, activation='relu')(x)\n",
        "prediction = Dense(len(folders), activation='softmax')(x)"
      ],
      "execution_count": 8,
      "outputs": []
    },
    {
      "cell_type": "code",
      "metadata": {
        "id": "tM2_QDutUhbn"
      },
      "source": [
        "model = Model(inputs=vgg.input, outputs=prediction)"
      ],
      "execution_count": 9,
      "outputs": []
    },
    {
      "cell_type": "code",
      "metadata": {
        "colab": {
          "base_uri": "https://localhost:8080/"
        },
        "id": "UuH8RYg6Uhbn",
        "outputId": "eb938fba-f721-4b8b-aed6-9ddc52eba145"
      },
      "source": [
        "model.summary()"
      ],
      "execution_count": 10,
      "outputs": [
        {
          "output_type": "stream",
          "text": [
            "Model: \"model\"\n",
            "_________________________________________________________________\n",
            "Layer (type)                 Output Shape              Param #   \n",
            "=================================================================\n",
            "input_1 (InputLayer)         [(None, 224, 224, 3)]     0         \n",
            "_________________________________________________________________\n",
            "block1_conv1 (Conv2D)        (None, 224, 224, 64)      1792      \n",
            "_________________________________________________________________\n",
            "block1_conv2 (Conv2D)        (None, 224, 224, 64)      36928     \n",
            "_________________________________________________________________\n",
            "block1_pool (MaxPooling2D)   (None, 112, 112, 64)      0         \n",
            "_________________________________________________________________\n",
            "block2_conv1 (Conv2D)        (None, 112, 112, 128)     73856     \n",
            "_________________________________________________________________\n",
            "block2_conv2 (Conv2D)        (None, 112, 112, 128)     147584    \n",
            "_________________________________________________________________\n",
            "block2_pool (MaxPooling2D)   (None, 56, 56, 128)       0         \n",
            "_________________________________________________________________\n",
            "block3_conv1 (Conv2D)        (None, 56, 56, 256)       295168    \n",
            "_________________________________________________________________\n",
            "block3_conv2 (Conv2D)        (None, 56, 56, 256)       590080    \n",
            "_________________________________________________________________\n",
            "block3_conv3 (Conv2D)        (None, 56, 56, 256)       590080    \n",
            "_________________________________________________________________\n",
            "block3_pool (MaxPooling2D)   (None, 28, 28, 256)       0         \n",
            "_________________________________________________________________\n",
            "block4_conv1 (Conv2D)        (None, 28, 28, 512)       1180160   \n",
            "_________________________________________________________________\n",
            "block4_conv2 (Conv2D)        (None, 28, 28, 512)       2359808   \n",
            "_________________________________________________________________\n",
            "block4_conv3 (Conv2D)        (None, 28, 28, 512)       2359808   \n",
            "_________________________________________________________________\n",
            "block4_pool (MaxPooling2D)   (None, 14, 14, 512)       0         \n",
            "_________________________________________________________________\n",
            "block5_conv1 (Conv2D)        (None, 14, 14, 512)       2359808   \n",
            "_________________________________________________________________\n",
            "block5_conv2 (Conv2D)        (None, 14, 14, 512)       2359808   \n",
            "_________________________________________________________________\n",
            "block5_conv3 (Conv2D)        (None, 14, 14, 512)       2359808   \n",
            "_________________________________________________________________\n",
            "block5_pool (MaxPooling2D)   (None, 7, 7, 512)         0         \n",
            "_________________________________________________________________\n",
            "flatten (Flatten)            (None, 25088)             0         \n",
            "_________________________________________________________________\n",
            "dense (Dense)                (None, 19)                476691    \n",
            "=================================================================\n",
            "Total params: 15,191,379\n",
            "Trainable params: 476,691\n",
            "Non-trainable params: 14,714,688\n",
            "_________________________________________________________________\n"
          ],
          "name": "stdout"
        }
      ]
    },
    {
      "cell_type": "code",
      "metadata": {
        "id": "6ahb_bIPUhbo"
      },
      "source": [
        "model.compile(\n",
        "  loss='categorical_crossentropy',\n",
        "  optimizer='adam',\n",
        "  metrics=['accuracy']\n",
        ")"
      ],
      "execution_count": 11,
      "outputs": []
    },
    {
      "cell_type": "code",
      "metadata": {
        "id": "ripQWNCgUhbp"
      },
      "source": [
        "from keras.preprocessing.image import ImageDataGenerator\n",
        "\n",
        "train_datagen = ImageDataGenerator(rescale = 1./255,\n",
        "                                   shear_range = 0.2,\n",
        "                                   zoom_range = 0.2,\n",
        "                                   horizontal_flip = True)\n",
        "\n",
        "test_datagen = ImageDataGenerator(rescale = 1./255)"
      ],
      "execution_count": 12,
      "outputs": []
    },
    {
      "cell_type": "code",
      "metadata": {
        "colab": {
          "base_uri": "https://localhost:8080/"
        },
        "id": "CyyE1dBfUhbp",
        "outputId": "5d92c22e-274f-4c6b-bb51-6456ea060fb6"
      },
      "source": [
        "training_set = train_datagen.flow_from_directory('drive/MyDrive/Dataset/Train',\n",
        "                                                 target_size = (224, 224),\n",
        "                                                 batch_size = 32,\n",
        "                                                 class_mode = 'categorical')\n",
        "\n",
        "test_set = test_datagen.flow_from_directory('drive/MyDrive/Dataset/Test',\n",
        "                                            target_size = (224, 224),\n",
        "                                            batch_size = 32,\n",
        "                                            class_mode = 'categorical')"
      ],
      "execution_count": 13,
      "outputs": [
        {
          "output_type": "stream",
          "text": [
            "Found 63 images belonging to 19 classes.\n",
            "Found 19 images belonging to 19 classes.\n"
          ],
          "name": "stdout"
        }
      ]
    },
    {
      "cell_type": "code",
      "metadata": {
        "scrolled": true,
        "colab": {
          "base_uri": "https://localhost:8080/"
        },
        "id": "T92JW90NUhbp",
        "outputId": "5f1af5da-764f-4ac9-e428-8210c41967dd"
      },
      "source": [
        "r = model.fit_generator(\n",
        "  training_set,\n",
        "  validation_data=test_set,\n",
        "  epochs=50,\n",
        "  steps_per_epoch=len(training_set),\n",
        "  validation_steps=len(test_set)\n",
        ")"
      ],
      "execution_count": 17,
      "outputs": [
        {
          "output_type": "stream",
          "text": [
            "/usr/local/lib/python3.7/dist-packages/tensorflow/python/keras/engine/training.py:1844: UserWarning: `Model.fit_generator` is deprecated and will be removed in a future version. Please use `Model.fit`, which supports generators.\n",
            "  warnings.warn('`Model.fit_generator` is deprecated and '\n"
          ],
          "name": "stderr"
        },
        {
          "output_type": "stream",
          "text": [
            "Epoch 1/50\n",
            "2/2 [==============================] - 2s 1s/step - loss: 0.0089 - accuracy: 1.0000 - val_loss: 2.2352 - val_accuracy: 0.4737\n",
            "Epoch 2/50\n",
            "2/2 [==============================] - 2s 1s/step - loss: 0.0096 - accuracy: 1.0000 - val_loss: 2.2225 - val_accuracy: 0.4737\n",
            "Epoch 3/50\n",
            "2/2 [==============================] - 2s 1s/step - loss: 0.0073 - accuracy: 1.0000 - val_loss: 2.2108 - val_accuracy: 0.4737\n",
            "Epoch 4/50\n",
            "2/2 [==============================] - 2s 1s/step - loss: 0.0055 - accuracy: 1.0000 - val_loss: 2.2033 - val_accuracy: 0.4737\n",
            "Epoch 5/50\n",
            "2/2 [==============================] - 2s 1s/step - loss: 0.0064 - accuracy: 1.0000 - val_loss: 2.1946 - val_accuracy: 0.5263\n",
            "Epoch 6/50\n",
            "2/2 [==============================] - 2s 1s/step - loss: 0.0059 - accuracy: 1.0000 - val_loss: 2.1857 - val_accuracy: 0.5789\n",
            "Epoch 7/50\n",
            "2/2 [==============================] - 2s 1s/step - loss: 0.0067 - accuracy: 1.0000 - val_loss: 2.1767 - val_accuracy: 0.5789\n",
            "Epoch 8/50\n",
            "2/2 [==============================] - 2s 1s/step - loss: 0.0066 - accuracy: 1.0000 - val_loss: 2.1703 - val_accuracy: 0.5789\n",
            "Epoch 9/50\n",
            "2/2 [==============================] - 2s 1s/step - loss: 0.0100 - accuracy: 1.0000 - val_loss: 2.1665 - val_accuracy: 0.5789\n",
            "Epoch 10/50\n",
            "2/2 [==============================] - 2s 1s/step - loss: 0.0071 - accuracy: 1.0000 - val_loss: 2.1719 - val_accuracy: 0.5789\n",
            "Epoch 11/50\n",
            "2/2 [==============================] - 2s 1s/step - loss: 0.0064 - accuracy: 1.0000 - val_loss: 2.1777 - val_accuracy: 0.5263\n",
            "Epoch 12/50\n",
            "2/2 [==============================] - 2s 1s/step - loss: 0.0066 - accuracy: 1.0000 - val_loss: 2.1796 - val_accuracy: 0.5263\n",
            "Epoch 13/50\n",
            "2/2 [==============================] - 2s 1s/step - loss: 0.0061 - accuracy: 1.0000 - val_loss: 2.1819 - val_accuracy: 0.5263\n",
            "Epoch 14/50\n",
            "2/2 [==============================] - 2s 1s/step - loss: 0.0059 - accuracy: 1.0000 - val_loss: 2.1892 - val_accuracy: 0.5263\n",
            "Epoch 15/50\n",
            "2/2 [==============================] - 2s 1s/step - loss: 0.0060 - accuracy: 1.0000 - val_loss: 2.1970 - val_accuracy: 0.5263\n",
            "Epoch 16/50\n",
            "2/2 [==============================] - 2s 1s/step - loss: 0.0055 - accuracy: 1.0000 - val_loss: 2.2054 - val_accuracy: 0.4737\n",
            "Epoch 17/50\n",
            "2/2 [==============================] - 2s 1s/step - loss: 0.0063 - accuracy: 1.0000 - val_loss: 2.2167 - val_accuracy: 0.4737\n",
            "Epoch 18/50\n",
            "2/2 [==============================] - 2s 1s/step - loss: 0.0052 - accuracy: 1.0000 - val_loss: 2.2247 - val_accuracy: 0.4737\n",
            "Epoch 19/50\n",
            "2/2 [==============================] - 2s 1s/step - loss: 0.0059 - accuracy: 1.0000 - val_loss: 2.2315 - val_accuracy: 0.4737\n",
            "Epoch 20/50\n",
            "2/2 [==============================] - 2s 1s/step - loss: 0.0076 - accuracy: 1.0000 - val_loss: 2.2334 - val_accuracy: 0.4737\n",
            "Epoch 21/50\n",
            "2/2 [==============================] - 2s 1s/step - loss: 0.0039 - accuracy: 1.0000 - val_loss: 2.2341 - val_accuracy: 0.5263\n",
            "Epoch 22/50\n",
            "2/2 [==============================] - 2s 1s/step - loss: 0.0059 - accuracy: 1.0000 - val_loss: 2.2339 - val_accuracy: 0.5263\n",
            "Epoch 23/50\n",
            "2/2 [==============================] - 2s 1s/step - loss: 0.0043 - accuracy: 1.0000 - val_loss: 2.2349 - val_accuracy: 0.5263\n",
            "Epoch 24/50\n",
            "2/2 [==============================] - 2s 1s/step - loss: 0.0040 - accuracy: 1.0000 - val_loss: 2.2337 - val_accuracy: 0.5263\n",
            "Epoch 25/50\n",
            "2/2 [==============================] - 2s 1s/step - loss: 0.0057 - accuracy: 1.0000 - val_loss: 2.2357 - val_accuracy: 0.5263\n",
            "Epoch 26/50\n",
            "2/2 [==============================] - 2s 1s/step - loss: 0.0053 - accuracy: 1.0000 - val_loss: 2.2442 - val_accuracy: 0.4737\n",
            "Epoch 27/50\n",
            "2/2 [==============================] - 2s 1s/step - loss: 0.0045 - accuracy: 1.0000 - val_loss: 2.2469 - val_accuracy: 0.4737\n",
            "Epoch 28/50\n",
            "2/2 [==============================] - 2s 1s/step - loss: 0.0055 - accuracy: 1.0000 - val_loss: 2.2487 - val_accuracy: 0.4737\n",
            "Epoch 29/50\n",
            "2/2 [==============================] - 2s 1s/step - loss: 0.0048 - accuracy: 1.0000 - val_loss: 2.2515 - val_accuracy: 0.4737\n",
            "Epoch 30/50\n",
            "2/2 [==============================] - 2s 1s/step - loss: 0.0059 - accuracy: 1.0000 - val_loss: 2.2558 - val_accuracy: 0.4737\n",
            "Epoch 31/50\n",
            "2/2 [==============================] - 2s 1s/step - loss: 0.0039 - accuracy: 1.0000 - val_loss: 2.2543 - val_accuracy: 0.4737\n",
            "Epoch 32/50\n",
            "2/2 [==============================] - 2s 1s/step - loss: 0.0045 - accuracy: 1.0000 - val_loss: 2.2501 - val_accuracy: 0.5263\n",
            "Epoch 33/50\n",
            "2/2 [==============================] - 2s 1s/step - loss: 0.0057 - accuracy: 1.0000 - val_loss: 2.2433 - val_accuracy: 0.5263\n",
            "Epoch 34/50\n",
            "2/2 [==============================] - 2s 1s/step - loss: 0.0049 - accuracy: 1.0000 - val_loss: 2.2346 - val_accuracy: 0.5263\n",
            "Epoch 35/50\n",
            "2/2 [==============================] - 2s 1s/step - loss: 0.0046 - accuracy: 1.0000 - val_loss: 2.2247 - val_accuracy: 0.5263\n",
            "Epoch 36/50\n",
            "2/2 [==============================] - 2s 1s/step - loss: 0.0059 - accuracy: 1.0000 - val_loss: 2.2122 - val_accuracy: 0.5263\n",
            "Epoch 37/50\n",
            "2/2 [==============================] - 2s 1s/step - loss: 0.0037 - accuracy: 1.0000 - val_loss: 2.1990 - val_accuracy: 0.5263\n",
            "Epoch 38/50\n",
            "2/2 [==============================] - 2s 1s/step - loss: 0.0051 - accuracy: 1.0000 - val_loss: 2.1843 - val_accuracy: 0.5263\n",
            "Epoch 39/50\n",
            "2/2 [==============================] - 2s 1s/step - loss: 0.0036 - accuracy: 1.0000 - val_loss: 2.1725 - val_accuracy: 0.5263\n",
            "Epoch 40/50\n",
            "2/2 [==============================] - 2s 1s/step - loss: 0.0032 - accuracy: 1.0000 - val_loss: 2.1631 - val_accuracy: 0.5263\n",
            "Epoch 41/50\n",
            "2/2 [==============================] - 2s 1s/step - loss: 0.0045 - accuracy: 1.0000 - val_loss: 2.1578 - val_accuracy: 0.5263\n",
            "Epoch 42/50\n",
            "2/2 [==============================] - 2s 1s/step - loss: 0.0042 - accuracy: 1.0000 - val_loss: 2.1575 - val_accuracy: 0.5263\n",
            "Epoch 43/50\n",
            "2/2 [==============================] - 2s 1s/step - loss: 0.0081 - accuracy: 1.0000 - val_loss: 2.1663 - val_accuracy: 0.5263\n",
            "Epoch 44/50\n",
            "2/2 [==============================] - 2s 1s/step - loss: 0.0055 - accuracy: 1.0000 - val_loss: 2.1884 - val_accuracy: 0.5263\n",
            "Epoch 45/50\n",
            "2/2 [==============================] - 2s 1s/step - loss: 0.0045 - accuracy: 1.0000 - val_loss: 2.2098 - val_accuracy: 0.5263\n",
            "Epoch 46/50\n",
            "2/2 [==============================] - 2s 1s/step - loss: 0.0059 - accuracy: 1.0000 - val_loss: 2.2379 - val_accuracy: 0.5263\n",
            "Epoch 47/50\n",
            "2/2 [==============================] - 2s 1s/step - loss: 0.0042 - accuracy: 1.0000 - val_loss: 2.2664 - val_accuracy: 0.4211\n",
            "Epoch 48/50\n",
            "2/2 [==============================] - 2s 1s/step - loss: 0.0049 - accuracy: 1.0000 - val_loss: 2.2889 - val_accuracy: 0.3684\n",
            "Epoch 49/50\n",
            "2/2 [==============================] - 2s 1s/step - loss: 0.0050 - accuracy: 1.0000 - val_loss: 2.3166 - val_accuracy: 0.3684\n",
            "Epoch 50/50\n",
            "2/2 [==============================] - 2s 1s/step - loss: 0.0034 - accuracy: 1.0000 - val_loss: 2.3358 - val_accuracy: 0.3684\n"
          ],
          "name": "stdout"
        }
      ]
    },
    {
      "cell_type": "code",
      "metadata": {
        "id": "K6y6u3bVUhbq",
        "colab": {
          "base_uri": "https://localhost:8080/",
          "height": 312
        },
        "outputId": "1cf2708d-2e1c-48a0-d036-7476de1a007f"
      },
      "source": [
        "plt.plot(r.history['loss'])\n",
        "plt.plot(r.history['val_loss'])\n",
        "plt.title('model loss')\n",
        "plt.ylabel('loss')\n",
        "plt.xlabel('epoch')\n",
        "plt.legend(['train', 'test'], loc='upper left')\n",
        "plt.show()\n",
        "plt.savefig('LossVal_loss')"
      ],
      "execution_count": 18,
      "outputs": [
        {
          "output_type": "display_data",
          "data": {
            "image/png": "[encoded data removed]",
            "text/plain": [
              "<Figure size 432x288 with 1 Axes>"
            ]
          },
          "metadata": {
            "tags": [],
            "needs_background": "light"
          }
        },
        {
          "output_type": "display_data",
          "data": {
            "text/plain": [
              "<Figure size 432x288 with 0 Axes>"
            ]
          },
          "metadata": {
            "tags": []
          }
        }
      ]
    },
    {
      "cell_type": "code",
      "metadata": {
        "id": "Xk4nMSMGUhbq",
        "colab": {
          "base_uri": "https://localhost:8080/",
          "height": 312
        },
        "outputId": "f76199b9-32e1-4717-bdf3-800e83e38a61"
      },
      "source": [
        "plt.plot(r.history['accuracy'])\n",
        "plt.plot(r.history['val_accuracy'])\n",
        "plt.title('model accuracy')\n",
        "plt.ylabel('accuracy')\n",
        "plt.xlabel('epoch')\n",
        "plt.legend(['train', 'test'], loc='upper left')\n",
        "plt.show()\n",
        "plt.savefig('AccVal_acc')"
      ],
      "execution_count": 19,
      "outputs": [
        {
          "output_type": "display_data",
          "data": {
            "image/png": "[encoded data removed]",
            "text/plain": [
              "<Figure size 432x288 with 1 Axes>"
            ]
          },
          "metadata": {
            "tags": [],
            "needs_background": "light"
          }
        },
        {
          "output_type": "display_data",
          "data": {
            "text/plain": [
              "<Figure size 432x288 with 0 Axes>"
            ]
          },
          "metadata": {
            "tags": []
          }
        }
      ]
    },
    {
      "cell_type": "code",
      "metadata": {
        "id": "j8VhSFPmUhbq"
      },
      "source": [
        ""
      ],
      "execution_count": 16,
      "outputs": []
    }
  ]
}